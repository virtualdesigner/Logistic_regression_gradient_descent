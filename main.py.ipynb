{
 "cells": [
  {
   "cell_type": "code",
   "execution_count": 37,
   "metadata": {},
   "outputs": [],
   "source": [
    "import math\n",
    "import numpy as np\n",
    "\n",
    "def sigmoid(val):\n",
    "    print(\"Sigmoid input value\",val)\n",
    "    return 1/(1+(math.exp(-val)))\n"
   ]
  },
  {
   "cell_type": "code",
   "execution_count": 38,
   "metadata": {},
   "outputs": [],
   "source": [
    "def cost(predicted, real):\n",
    "    if real == 0:\n",
    "        return -math.log(1-predicted)\n",
    "    elif real == 1:\n",
    "        return -math.log(predicted)\n"
   ]
  },
  {
   "cell_type": "code",
   "execution_count": 44,
   "metadata": {},
   "outputs": [],
   "source": [
    "def gradient_descent(x_features,y_labels,weights,points,learning_rate):\n",
    "    gradient = 0\n",
    "    \n",
    "    print('------------ Start: Loop throught all of the data points to find the gradient ---------------')\n",
    "    for i in range(0, len(points)):\n",
    "        y = (y_labels[i])[0,0]\n",
    "        z = np.dot(w, x_features[i].T)[0,0] # (eg: 3)  # get wx + b\n",
    "        \n",
    "        predicted = sigmoid(z)\n",
    "        cost_val = cost(predicted, y)  # find the error between predicted and the real value\n",
    "        print(\"predicted (h(x))\", predicted, \"\\nreal_value (y)\", y, \"\\ncost_value (error)\", cost_val, \"\\n\")\n",
    "        for j in range(0, x_features.shape[1]):  # x_features.shape[1] tells the no.of features (x1, x2, x3 ...)\n",
    "            x = x_features[i,j]  # get a single feature from the list of features\n",
    "            gradient += (cost_val - y) * x  # obtain gradient from the partial derivative of the cost function\n",
    "            \n",
    "    print('------------ End: Loop throught all of the data points to find the gradient ---------------')\n",
    "       \n",
    "    return gradient/len(points)\n",
    "\n"
   ]
  },
  {
   "cell_type": "code",
   "execution_count": 45,
   "metadata": {},
   "outputs": [],
   "source": [
    "def weightInitialization(n_features):\n",
    "    print(n_features)\n",
    "    w = np.ones((1,n_features))\n",
    "    return w"
   ]
  },
  {
   "cell_type": "code",
   "execution_count": 46,
   "metadata": {
    "scrolled": false
   },
   "outputs": [
    {
     "name": "stdout",
     "output_type": "stream",
     "text": [
      "1\n"
     ]
    }
   ],
   "source": [
    "data = np.array([[0, 0],[1, 0],[2,0],[3,1]])  # Training data set\n",
    "# data = np.genfromtxt('dataset1.csv', delimiter=\",\")\n",
    "# print(data)\n",
    "# data_length = len(data)\n",
    "\n",
    "x = np.matrix(data[:,0:-1])  # get features from the given data\n",
    "\n",
    "w = weightInitialization(x.shape[1])  # initialize weights\n",
    "\n",
    "y = np.matrix(data[:,-1]).T  # get labels from the given data\n"
   ]
  },
  {
   "cell_type": "code",
   "execution_count": 47,
   "metadata": {},
   "outputs": [],
   "source": [
    "def predict(point, weights):\n",
    "    print(point, weights)\n",
    "    x = np.matrix(point[0])[0,0]\n",
    "    y = np.matrix(point[1])[0,0]\n",
    "    z = np.dot(weights, x.T)[0,0] \n",
    "    predicted = sigmoid(z)\n",
    "#     print('probability that it is 1 (true)', predicted)\n",
    "    \n",
    "# predict(np.array([0,1]),np.matrix([[1.3211212122919949, 1.3211594052036573]]))"
   ]
  },
  {
   "cell_type": "code",
   "execution_count": 43,
   "metadata": {},
   "outputs": [
    {
     "name": "stdout",
     "output_type": "stream",
     "text": [
      "X (features) [[1 0]\n",
      " [1 1]\n",
      " [1 2]\n",
      " [1 3]]\n",
      "Weights [[1. 1.]]\n",
      "---------- Start a iteration ----------------\n",
      "Sigmoid input value 1.0\n",
      "predicted (h(x)) 0.7310585786300049 \n",
      "real_value (y) 0 \n",
      "cost_value (error) 1.3132616875182228 \n",
      "\n",
      "Sigmoid input value 2.0\n",
      "predicted (h(x)) 0.8807970779778823 \n",
      "real_value (y) 0 \n",
      "cost_value (error) 2.1269280110429714 \n",
      "\n",
      "Sigmoid input value 3.0\n",
      "predicted (h(x)) 0.9525741268224334 \n",
      "real_value (y) 0 \n",
      "cost_value (error) 3.048587351573745 \n",
      "\n",
      "Sigmoid input value 4.0\n",
      "predicted (h(x)) 0.9820137900379085 \n",
      "real_value (y) 1 \n",
      "cost_value (error) 0.01814992791780973 \n",
      "\n",
      "gradient_value 2.6963698689991595\n",
      "Sigmoid input value 1.0269636986899915\n",
      "predicted (h(x)) 0.7363268221959797 \n",
      "real_value (y) 0 \n",
      "cost_value (error) 1.333044905608408 \n",
      "\n",
      "Sigmoid input value 2.0269636986899915\n",
      "predicted (h(x)) 0.8835991527558503 \n",
      "real_value (y) 0 \n",
      "cost_value (error) 2.1507154649814813 \n",
      "\n",
      "Sigmoid input value 3.0269636986899915\n",
      "predicted (h(x)) 0.9537774989189061 \n",
      "real_value (y) 0 \n",
      "cost_value (error) 3.0742885630708554 \n",
      "\n",
      "Sigmoid input value 4.0269636986899915\n",
      "predicted (h(x)) 0.9824839034390714 \n",
      "real_value (y) 1 \n",
      "cost_value (error) 0.01767131864104863 \n",
      "\n",
      "gradient_value 2.732006699837033\n",
      "---------- Complete a iteration ----------------\n",
      "---------- Start a iteration ----------------\n",
      "Sigmoid input value 1.0269636986899915\n",
      "predicted (h(x)) 0.7363268221959797 \n",
      "real_value (y) 0 \n",
      "cost_value (error) 1.333044905608408 \n",
      "\n",
      "Sigmoid input value 2.054283765688362\n",
      "predicted (h(x)) 0.886379754291918 \n",
      "real_value (y) 0 \n",
      "cost_value (error) 2.1748935693129665 \n",
      "\n",
      "Sigmoid input value 3.0816038326867323\n",
      "predicted (h(x)) 0.9561275109245595 \n",
      "real_value (y) 0 \n",
      "cost_value (error) 3.1264678278835407 \n",
      "\n",
      "Sigmoid input value 4.108923899685102\n",
      "predicted (h(x)) 0.9838399947624855 \n",
      "real_value (y) 1 \n",
      "cost_value (error) 0.016292002100520432 \n",
      "\n",
      "gradient_value 2.781850884071761\n",
      "Sigmoid input value 1.0547822075307092\n",
      "predicted (h(x)) 0.7416921563790847 \n",
      "real_value (y) 0 \n",
      "cost_value (error) 1.3536032130196114 \n",
      "\n",
      "Sigmoid input value 2.0821022745290794\n",
      "predicted (h(x)) 0.8891514055298727 \n",
      "real_value (y) 0 \n",
      "cost_value (error) 2.199590022566037 \n",
      "\n",
      "Sigmoid input value 3.1094223415274502\n",
      "predicted (h(x)) 0.9572797385385832 \n",
      "real_value (y) 0 \n",
      "cost_value (error) 3.1530819639974093 \n",
      "\n",
      "Sigmoid input value 4.13674240852582\n",
      "predicted (h(x)) 0.9842763756250796 \n",
      "real_value (y) 1 \n",
      "cost_value (error) 0.01584855182866551 \n",
      "\n",
      "gradient_value 2.8188558393646446\n",
      "---------- Complete a iteration ----------------\n",
      "\n",
      "Weights after optimization:  [[1.05478221 1.05550863]]\n"
     ]
    }
   ],
   "source": [
    "learning_rate = 0.01\n",
    "iterations = 2\n",
    "\n",
    "x = np.insert(x, 0, 1, axis=1)\n",
    "w = np.insert(w, 0, 1, axis=1 )\n",
    "print(\"X (features)\", x)\n",
    "print(\"Weights\", w)\n",
    "for i in range(0,iterations):\n",
    "    print('\\n---------- Start a iteration ----------------')\n",
    "    \n",
    "    for j in range(0, w.shape[1]):  # w.shape[1] gives the no.of weights (w1, w2, w3, ...)\n",
    "        gradient_value = gradient_descent(x,y,w,data,learning_rate)\n",
    "        print('gradient_value', gradient_value)\n",
    "        w[0,j] += learning_rate * gradient_value  # optimizing weights\n",
    "        \n",
    "    print('---------- Complete a iteration ----------------\\n')\n",
    "\n",
    "print(\"\\nWeights after optimization: \", w)"
   ]
  },
  {
   "cell_type": "code",
   "execution_count": null,
   "metadata": {},
   "outputs": [],
   "source": [
    "\n"
   ]
  },
  {
   "cell_type": "code",
   "execution_count": null,
   "metadata": {},
   "outputs": [],
   "source": []
  }
 ],
 "metadata": {
  "kernelspec": {
   "display_name": "Python 3",
   "language": "python",
   "name": "python3"
  },
  "language_info": {
   "codemirror_mode": {
    "name": "ipython",
    "version": 3
   },
   "file_extension": ".py",
   "mimetype": "text/x-python",
   "name": "python",
   "nbconvert_exporter": "python",
   "pygments_lexer": "ipython3",
   "version": "3.6.2"
  }
 },
 "nbformat": 4,
 "nbformat_minor": 2
}
